{
 "cells": [
  {
   "cell_type": "code",
   "execution_count": 89,
   "id": "813336cb-860d-4047-af20-4b7f351e4e79",
   "metadata": {
    "editable": true,
    "slideshow": {
     "slide_type": ""
    },
    "tags": []
   },
   "outputs": [],
   "source": [
    "with open(\"do_androids_dream_of_electric_sheep.txt\",\n",
    "          \"r\", encoding=\"utf-8\") as f:\n",
    "    text = f.read()"
   ]
  },
  {
   "cell_type": "code",
   "execution_count": 90,
   "id": "241a7839-7a95-4072-9bef-4db1dc781e97",
   "metadata": {},
   "outputs": [
    {
     "name": "stdout",
     "output_type": "stream",
     "text": [
      "357448\n"
     ]
    }
   ],
   "source": [
    "print(len(text))"
   ]
  },
  {
   "cell_type": "code",
   "execution_count": 91,
   "id": "ab10c128-88a9-4d7c-9ac2-4ca41456fb34",
   "metadata": {},
   "outputs": [],
   "source": [
    "words = str(text).split()"
   ]
  },
  {
   "cell_type": "code",
   "execution_count": 92,
   "id": "52326d16-a436-4cc6-841b-9d93b0d50fc4",
   "metadata": {},
   "outputs": [
    {
     "name": "stdout",
     "output_type": "stream",
     "text": [
      "62693\n"
     ]
    }
   ],
   "source": [
    "print(len(words))"
   ]
  },
  {
   "cell_type": "code",
   "execution_count": 93,
   "id": "dce472ef-6764-4b7a-b34f-8a49f5d00650",
   "metadata": {},
   "outputs": [],
   "source": [
    "unique_words = sorted(set(words))"
   ]
  },
  {
   "cell_type": "code",
   "execution_count": 94,
   "id": "4a832f2e-8f9f-4834-9d75-4368c2935e09",
   "metadata": {},
   "outputs": [
    {
     "name": "stdout",
     "output_type": "stream",
     "text": [
      "12054\n"
     ]
    }
   ],
   "source": [
    "print(len(unique_words))"
   ]
  },
  {
   "cell_type": "code",
   "execution_count": 95,
   "id": "eb5354a4-1f9f-48cc-a56c-98a232627607",
   "metadata": {},
   "outputs": [],
   "source": [
    "capitalised_words_titlelike = [word for word in words if word.title() == word]"
   ]
  },
  {
   "cell_type": "code",
   "execution_count": 96,
   "id": "120953a3-fb8c-40a8-9d5f-aefa820e73d0",
   "metadata": {},
   "outputs": [
    {
     "name": "stdout",
     "output_type": "stream",
     "text": [
      "9659\n"
     ]
    }
   ],
   "source": [
    "print(len(capitalised_words_titlelike))"
   ]
  },
  {
   "cell_type": "code",
   "execution_count": 97,
   "id": "18cd3878-d2f5-4d4c-9b46-0e2509ec448e",
   "metadata": {},
   "outputs": [],
   "source": [
    "capitalised_words_is_title = [word for word in words if word.istitle()]"
   ]
  },
  {
   "cell_type": "code",
   "execution_count": 98,
   "id": "6314baa6-6b2c-435d-b7b5-2854b35c7821",
   "metadata": {},
   "outputs": [
    {
     "name": "stdout",
     "output_type": "stream",
     "text": [
      "8798\n"
     ]
    }
   ],
   "source": [
    "print(len(capitalised_words_is_title))"
   ]
  },
  {
   "cell_type": "code",
   "execution_count": 99,
   "id": "c4448c70-4efe-464b-a6af-004a8a7a07fb",
   "metadata": {},
   "outputs": [],
   "source": [
    "titlelike_not_is_title = [word for word in capitalised_words_titlelike if word not in capitalised_words_is_title]\n",
    "unique_titlelike_not_is_title = sorted(set(titlelike_not_is_title))"
   ]
  },
  {
   "cell_type": "code",
   "execution_count": 100,
   "id": "fc7680a6-d63f-4ed8-8477-fec3ebdf3a52",
   "metadata": {},
   "outputs": [
    {
     "name": "stdout",
     "output_type": "stream",
     "text": [
      "150\n",
      "['\"', '\"-', '\"304,\"', '\"406.7', '\"[', '&', \"'\", '\\'\"', \"'89.\", ',', '-', '-\"', '.', '..', '..\"', '...', '.............', '.38', '1', '10', '10,', '100', '101', '102', '103', '104', '105', '106', '107', '108', '109', '11', '110', '111', '12', '13', '14', '14,', '15', '16', '17', '1777', '18', '1894,\"', '19', '1923', '1966', '1967', '1968', '1990,', '1991', '1992,', '2.8.', '20', '200', '21', '22', '23', '24', '25', '26', '27', '28', '29', '3', '3,', '3,\"', '3.', '3.3\"', '30', '31', '32', '33', '34', '35', '36', '37', '38', '382', '39', '4', '4.0', '40', '41', '42', '43', '45', '46', '47', '48', '481,\"', '481.', '49', '50', '51', '52', '53', '54', '55', '56', '58', '59', '594', '594:', '6.', '61', '612.4', '62', '63', '65', '66', '67', '670', '68', '69', '70', '71', '72', '73', '74', '75', '76', '77', '78', '79', '80', '81', '82', '83', '84', '842', '85', '86', '87', '88', '888,', '888,\"', '89', '91', '92', '93', '94', '95', '96', '97', '98', '99', ':', '?', '[?\"']\n"
     ]
    }
   ],
   "source": [
    "print(len(unique_titlelike_not_is_title))\n",
    "print(unique_titlelike_not_is_title)"
   ]
  },
  {
   "cell_type": "code",
   "execution_count": 101,
   "id": "01e0b119-3876-452c-871e-5ca0c9b64129",
   "metadata": {},
   "outputs": [],
   "source": [
    "unique_capitalised_words = sorted(set(capitalised_words_is_title))"
   ]
  },
  {
   "cell_type": "code",
   "execution_count": 102,
   "id": "f4ff195a-c1ad-4a16-ae99-faae21649293",
   "metadata": {},
   "outputs": [
    {
     "name": "stdout",
     "output_type": "stream",
     "text": [
      "1616\n"
     ]
    }
   ],
   "source": [
    "print(len(unique_capitalised_words))"
   ]
  },
  {
   "cell_type": "code",
   "execution_count": 103,
   "id": "bd42b552-d436-4d15-a8b1-38966b8b1d8f",
   "metadata": {},
   "outputs": [],
   "source": [
    "unique_capitalised_words_by_count = {words.count(unique_capitalised_word):\n",
    "                                     unique_capitalised_word for unique_capitalised_word in unique_capitalised_words}"
   ]
  },
  {
   "cell_type": "code",
   "execution_count": 104,
   "id": "8d66b2e7-2bd0-4386-89ad-29a94031ea2f",
   "metadata": {},
   "outputs": [],
   "source": [
    "unique_capitalised_word_counts = unique_capitalised_words_by_count.keys()\n",
    "descending_unique_capitalised_word_counts = sorted(unique_capitalised_word_counts)\n",
    "descending_unique_capitalised_word_counts.reverse() # had to use a separate line to make it descending"
   ]
  },
  {
   "cell_type": "code",
   "execution_count": 105,
   "id": "0b6db291-3a12-42b0-8331-0c03a118d2e4",
   "metadata": {},
   "outputs": [
    {
     "data": {
      "text/plain": [
       "[659, 404, 320, 240, 227, 182, 161, 138, 130, 121]"
      ]
     },
     "execution_count": 105,
     "metadata": {},
     "output_type": "execute_result"
    }
   ],
   "source": [
    "descending_unique_capitalised_word_counts[0:10]"
   ]
  },
  {
   "cell_type": "code",
   "execution_count": 106,
   "id": "c1efb383-879e-4d61-a787-5fa4610fb8ad",
   "metadata": {},
   "outputs": [
    {
     "data": {
      "text/plain": [
       "['I', 'He', 'Rick', 'The', '\"I', 'And', 'She', 'But', 'Rachael', 'Isidore']"
      ]
     },
     "execution_count": 106,
     "metadata": {},
     "output_type": "execute_result"
    }
   ],
   "source": [
    "top_ten_unique_capitalised_words = [unique_capitalised_words_by_count[count] for count in descending_unique_capitalised_word_counts[0:10]]\n",
    "top_ten_unique_capitalised_words"
   ]
  },
  {
   "cell_type": "code",
   "execution_count": 107,
   "id": "9286c4d4-125d-4b51-b027-612cbf9d34d7",
   "metadata": {},
   "outputs": [],
   "source": [
    "# beautiful"
   ]
  },
  {
   "cell_type": "code",
   "execution_count": 108,
   "id": "73959b4f-e493-418f-b7d5-98310ef02afc",
   "metadata": {},
   "outputs": [],
   "source": [
    "# requirements for a name:\n",
    "# 1. Must be in the title format so like Brian, Ben, Penelope not brian, ben, penelope\n",
    "# 2. Must start with a letter in the alphabet\n",
    "# 3. Must be longer than 2 characters\n",
    "\n",
    "# Using .istitle() above instead of comparing word.title() == word got rid of only numerical or only character strings"
   ]
  },
  {
   "cell_type": "code",
   "execution_count": 109,
   "id": "678b9770-b74b-4021-8bd9-e847d42499c0",
   "metadata": {},
   "outputs": [],
   "source": [
    "def is_namelike(string):\n",
    "    if len(string) >= 3 and string[0].isalpha() and string.istitle():\n",
    "        return True\n",
    "    return False"
   ]
  },
  {
   "cell_type": "code",
   "execution_count": 110,
   "id": "0f1a9ae9-6277-4589-a18c-cd7aaf63847b",
   "metadata": {},
   "outputs": [],
   "source": [
    "namelike_words = [word for word in words if is_namelike(word)]"
   ]
  },
  {
   "cell_type": "code",
   "execution_count": 111,
   "id": "cf6f120b-d3a4-4ca6-9090-40e52f5e97e6",
   "metadata": {},
   "outputs": [
    {
     "name": "stdout",
     "output_type": "stream",
     "text": [
      "5362\n"
     ]
    }
   ],
   "source": [
    "print(len(namelike_words))"
   ]
  },
  {
   "cell_type": "code",
   "execution_count": 112,
   "id": "5d2a31aa-48ca-4e56-ac8e-026589c4d898",
   "metadata": {},
   "outputs": [],
   "source": [
    "unique_namelike_words = sorted(set(namelike_words))"
   ]
  },
  {
   "cell_type": "code",
   "execution_count": 113,
   "id": "4623b9ca-994f-4ccb-927f-0531e11c8a56",
   "metadata": {},
   "outputs": [
    {
     "name": "stdout",
     "output_type": "stream",
     "text": [
      "1164\n"
     ]
    }
   ],
   "source": [
    "print(len(unique_namelike_words))"
   ]
  },
  {
   "cell_type": "code",
   "execution_count": 114,
   "id": "04802adb-9e6c-4035-bcdb-2c627c71d188",
   "metadata": {},
   "outputs": [],
   "source": [
    "unique_namelike_words_by_count = {words.count(unique_namelike_word):\n",
    "                                     unique_namelike_word for unique_namelike_word in unique_namelike_words}"
   ]
  },
  {
   "cell_type": "code",
   "execution_count": 115,
   "id": "61b3cc95-97ff-4f3f-af2b-0886d183d155",
   "metadata": {},
   "outputs": [],
   "source": [
    "unique_namelike_word_counts = unique_namelike_words_by_count.keys()\n",
    "descending_unique_namelike_word_counts = sorted(unique_namelike_word_counts)\n",
    "descending_unique_namelike_word_counts.reverse() # had to use a separate line to make it descending"
   ]
  },
  {
   "cell_type": "code",
   "execution_count": 116,
   "id": "97fd851d-7dd4-4311-a77c-17243c0f477a",
   "metadata": {},
   "outputs": [
    {
     "data": {
      "text/plain": [
       "[320, 240, 182, 161, 138, 130, 121, 102, 93, 83]"
      ]
     },
     "execution_count": 116,
     "metadata": {},
     "output_type": "execute_result"
    }
   ],
   "source": [
    "descending_unique_namelike_word_counts[0:10]"
   ]
  },
  {
   "cell_type": "code",
   "execution_count": 117,
   "id": "3fa4570d-fddf-436d-ad25-852652576faa",
   "metadata": {},
   "outputs": [],
   "source": [
    "top_ten_unique_namelike_words = [unique_namelike_words_by_count[count] for count in descending_unique_namelike_word_counts[0:10]]"
   ]
  },
  {
   "cell_type": "code",
   "execution_count": 118,
   "id": "6975aaf1-3620-40ac-ab33-0acce70cb125",
   "metadata": {},
   "outputs": [
    {
     "data": {
      "text/plain": [
       "['Rick',\n",
       " 'The',\n",
       " 'And',\n",
       " 'She',\n",
       " 'But',\n",
       " 'Rachael',\n",
       " 'Isidore',\n",
       " 'Resch',\n",
       " 'Phil',\n",
       " 'Mr.',\n",
       " 'Pris',\n",
       " 'Roy',\n",
       " 'You',\n",
       " 'Baty',\n",
       " 'Luba',\n",
       " 'Garland',\n",
       " 'Rosen',\n",
       " 'Bryant',\n",
       " 'Buster',\n",
       " 'Irmgard',\n",
       " 'Iran',\n",
       " 'Luft',\n",
       " 'Voigt-Kampff',\n",
       " 'Miss',\n",
       " 'This',\n",
       " 'Sloat',\n",
       " 'What',\n",
       " 'His',\n",
       " 'For',\n",
       " 'Inspector']"
      ]
     },
     "execution_count": 118,
     "metadata": {},
     "output_type": "execute_result"
    }
   ],
   "source": [
    "[unique_namelike_words_by_count[count] for count in descending_unique_namelike_word_counts[0:30]]"
   ]
  },
  {
   "cell_type": "code",
   "execution_count": 119,
   "id": "9e7ab248-e338-442e-87eb-eb5d5dfa432e",
   "metadata": {},
   "outputs": [],
   "source": [
    "pronouns_and_other1 = [\n",
    "    \"The\", \"And\", \"She\", \"But\", \"Mr.\", \"You\", \"Miss\", \"This\", \"What\", \"His\", \"For\", \"Inspector\",\n",
    "]"
   ]
  },
  {
   "cell_type": "code",
   "execution_count": 120,
   "id": "f196a67a-5e8f-482c-bfef-7552179e8e29",
   "metadata": {},
   "outputs": [
    {
     "data": {
      "text/plain": [
       "['Rick',\n",
       " 'Rachael',\n",
       " 'Isidore',\n",
       " 'Resch',\n",
       " 'Phil',\n",
       " 'Pris',\n",
       " 'Roy',\n",
       " 'Baty',\n",
       " 'Luba',\n",
       " 'Garland',\n",
       " 'Rosen',\n",
       " 'Bryant',\n",
       " 'Buster',\n",
       " 'Irmgard',\n",
       " 'Iran',\n",
       " 'Luft',\n",
       " 'Voigt-Kampff',\n",
       " 'Sloat']"
      ]
     },
     "execution_count": 120,
     "metadata": {},
     "output_type": "execute_result"
    }
   ],
   "source": [
    "[unique_namelike_words_by_count[count]\n",
    "     for count in descending_unique_namelike_word_counts[0:30]\n",
    "     if unique_namelike_words_by_count[count] not in pronouns_and_other1\n",
    "]"
   ]
  },
  {
   "cell_type": "code",
   "execution_count": 121,
   "id": "a3803f2e-321c-49cd-be64-9b9bc1549959",
   "metadata": {},
   "outputs": [],
   "source": [
    "pronouns_and_other2 = [\"Not\", \"Officer\", \"When\", \"Well,\", \"With\", \"Where\", \"Why\", \"Yes,\", \"Your\", \"Yet\",]"
   ]
  },
  {
   "cell_type": "code",
   "execution_count": 122,
   "id": "ecc1e4a2-285c-4e75-b069-9b7a90f168df",
   "metadata": {},
   "outputs": [
    {
     "data": {
      "text/plain": [
       "['Rick',\n",
       " 'Rachael',\n",
       " 'Isidore',\n",
       " 'Resch',\n",
       " 'Phil',\n",
       " 'Pris',\n",
       " 'Roy',\n",
       " 'Baty',\n",
       " 'Luba',\n",
       " 'Garland',\n",
       " 'Rosen',\n",
       " 'Bryant',\n",
       " 'Buster',\n",
       " 'Irmgard',\n",
       " 'Iran',\n",
       " 'Luft',\n",
       " 'Voigt-Kampff',\n",
       " 'Sloat',\n",
       " 'San',\n",
       " 'Polokov',\n",
       " 'Rick.',\n",
       " 'Isidore.',\n",
       " 'Rick,',\n",
       " 'Isidore,',\n",
       " 'Polokov.',\n",
       " 'Wilbur',\n",
       " 'Mercer.',\n",
       " 'W.P.O.',\n",
       " 'Pris,',\n",
       " 'Polokov,',\n",
       " 'Zion',\n",
       " 'Zip']"
      ]
     },
     "execution_count": 122,
     "metadata": {},
     "output_type": "execute_result"
    }
   ],
   "source": [
    "[unique_namelike_words_by_count[count]\n",
    "     for count in descending_unique_namelike_word_counts[0:400]\n",
    "     if unique_namelike_words_by_count[count] not in pronouns_and_other1 + pronouns_and_other2\n",
    "]"
   ]
  },
  {
   "cell_type": "code",
   "execution_count": 123,
   "id": "f8529110-f797-4c81-9e8b-00f356d991e8",
   "metadata": {},
   "outputs": [],
   "source": [
    "# Note that pronouns and other have lots of trailing dots and commas"
   ]
  },
  {
   "cell_type": "code",
   "execution_count": 124,
   "id": "8cb42deb-817d-43f8-9367-e58aa6094dd8",
   "metadata": {},
   "outputs": [],
   "source": [
    "# requirements for a name:\n",
    "# 1. Must be in the title format so like Brian, Ben, Penelope not brian, ben, penelope\n",
    "# 2. Must start with a letter in the alphabet\n",
    "# 3. Must be longer than 2 characters\n",
    "\n",
    "# Using .istitle() above instead of comparing word.title() == word got rid of only numerical or only character strings\n",
    "# Covered 1., 2. and 3. perfectly using the previous form of is_namelike(string) function\n",
    "\n",
    "# new requirements for a name:\n",
    "# 4. Cannot end in a non-alphanumeric value"
   ]
  },
  {
   "cell_type": "code",
   "execution_count": 125,
   "id": "ba3ee0ca-8645-42db-bbb6-2210093babec",
   "metadata": {},
   "outputs": [],
   "source": [
    "def revised_is_namelike(string):\n",
    "    if len(string) >= 3 and string[0].isalpha() and string.istitle() and string[-1].isalnum():\n",
    "        return True\n",
    "    return False"
   ]
  },
  {
   "cell_type": "code",
   "execution_count": 126,
   "id": "bc394efd-bc0c-498d-bffb-92a1ffd2dd23",
   "metadata": {},
   "outputs": [],
   "source": [
    "pronouns_new = [\"She\", \"You\", \"His\"]\n",
    "titles_new = [\"Miss\", \"Inspector\", \"Officer\"]\n",
    "other_new = [\n",
    "    \"The\", \"And\", \"But\", \"This\", \"What\", \"For\", \"Not\", \"After\", \"When\", \"Because\", \"Now\", \"There\", \"With\", \"Then\",\n",
    "    \"Where\", \"Why\", \"Your\", \"Yet\"]\n",
    "pronouns_titles_and_other = pronouns_new + titles_new + other_new"
   ]
  },
  {
   "cell_type": "code",
   "execution_count": 127,
   "id": "feab35e0-c623-46bc-8e68-c8285832ea3e",
   "metadata": {},
   "outputs": [
    {
     "name": "stdout",
     "output_type": "stream",
     "text": [
      "4266\n"
     ]
    }
   ],
   "source": [
    "namelike_words = [word for word in words if revised_is_namelike(word)]\n",
    "print(len(namelike_words))"
   ]
  },
  {
   "cell_type": "code",
   "execution_count": 128,
   "id": "c6db7b12-ef63-4431-a04e-02cf81b79067",
   "metadata": {},
   "outputs": [
    {
     "name": "stdout",
     "output_type": "stream",
     "text": [
      "652\n"
     ]
    }
   ],
   "source": [
    "unique_namelike_words = sorted(set(namelike_words))\n",
    "print(len(unique_namelike_words))"
   ]
  },
  {
   "cell_type": "code",
   "execution_count": 129,
   "id": "5c30b7f8-c902-440a-8fda-75131461cead",
   "metadata": {},
   "outputs": [],
   "source": [
    "unique_namelike_words_by_count = {words.count(unique_namelike_word):\n",
    "                                     unique_namelike_word for unique_namelike_word in unique_namelike_words}"
   ]
  },
  {
   "cell_type": "code",
   "execution_count": 130,
   "id": "d68f77e2-314a-4bce-9e5f-a8a554832b6c",
   "metadata": {},
   "outputs": [],
   "source": [
    "unique_namelike_word_counts = unique_namelike_words_by_count.keys()\n",
    "descending_unique_namelike_word_counts = sorted(unique_namelike_word_counts)\n",
    "descending_unique_namelike_word_counts.reverse() # had to use a separate line to make it descending"
   ]
  },
  {
   "cell_type": "code",
   "execution_count": 131,
   "id": "7fc2f21f-ba7c-42d0-b18e-a32d852753c8",
   "metadata": {},
   "outputs": [
    {
     "data": {
      "text/plain": [
       "[320, 240, 182, 161, 138, 130, 121, 102, 93, 78]"
      ]
     },
     "execution_count": 131,
     "metadata": {},
     "output_type": "execute_result"
    }
   ],
   "source": [
    "descending_unique_namelike_word_counts[0:10]"
   ]
  },
  {
   "cell_type": "code",
   "execution_count": 136,
   "id": "33c9b759-6ef8-4f98-8d2d-571661fc5a72",
   "metadata": {},
   "outputs": [
    {
     "data": {
      "text/plain": [
       "['Rick',\n",
       " 'Rachael',\n",
       " 'Isidore',\n",
       " 'Resch',\n",
       " 'Phil',\n",
       " 'Pris',\n",
       " 'Roy',\n",
       " 'Baty',\n",
       " 'Luba',\n",
       " 'Garland',\n",
       " 'Rosen',\n",
       " 'Bryant',\n",
       " 'Buster',\n",
       " 'Irmgard',\n",
       " 'Iran',\n",
       " 'Luft',\n",
       " 'Voigt-Kampff',\n",
       " 'Sloat',\n",
       " 'San',\n",
       " 'Polokov',\n",
       " 'Deckard',\n",
       " 'John',\n",
       " 'Wilbur',\n",
       " 'Hannibal',\n",
       " 'Pet',\n",
       " 'Police',\n",
       " 'Time',\n",
       " 'Zion',\n",
       " 'Zip']"
      ]
     },
     "execution_count": 136,
     "metadata": {},
     "output_type": "execute_result"
    }
   ],
   "source": [
    "[unique_namelike_words_by_count[count]\n",
    "     for count in descending_unique_namelike_word_counts[0:500]\n",
    "     if unique_namelike_words_by_count[count] not in pronouns_titles_and_other\n",
    "]"
   ]
  },
  {
   "cell_type": "code",
   "execution_count": null,
   "id": "f0238f71-da2d-44e4-bc8b-77d7e487ff79",
   "metadata": {},
   "outputs": [],
   "source": []
  }
 ],
 "metadata": {
  "kernelspec": {
   "display_name": "Python [conda env:style_absorber]",
   "language": "python",
   "name": "conda-env-style_absorber-py"
  },
  "language_info": {
   "codemirror_mode": {
    "name": "ipython",
    "version": 3
   },
   "file_extension": ".py",
   "mimetype": "text/x-python",
   "name": "python",
   "nbconvert_exporter": "python",
   "pygments_lexer": "ipython3",
   "version": "3.13.2"
  }
 },
 "nbformat": 4,
 "nbformat_minor": 5
}
