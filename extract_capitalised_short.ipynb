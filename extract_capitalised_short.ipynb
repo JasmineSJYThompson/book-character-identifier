{
 "cells": [
  {
   "cell_type": "code",
   "execution_count": 70,
   "id": "813336cb-860d-4047-af20-4b7f351e4e79",
   "metadata": {
    "editable": true,
    "slideshow": {
     "slide_type": ""
    },
    "tags": []
   },
   "outputs": [],
   "source": [
    "with open(\"do_androids_dream_of_electric_sheep.txt\",\n",
    "          \"r\", encoding=\"utf-8\") as f:\n",
    "    text = f.read()"
   ]
  },
  {
   "cell_type": "code",
   "execution_count": 71,
   "id": "241a7839-7a95-4072-9bef-4db1dc781e97",
   "metadata": {},
   "outputs": [
    {
     "name": "stdout",
     "output_type": "stream",
     "text": [
      "357448\n"
     ]
    }
   ],
   "source": [
    "print(len(text))"
   ]
  },
  {
   "cell_type": "code",
   "execution_count": 72,
   "id": "ab10c128-88a9-4d7c-9ac2-4ca41456fb34",
   "metadata": {},
   "outputs": [],
   "source": [
    "words = str(text).split()"
   ]
  },
  {
   "cell_type": "code",
   "execution_count": 73,
   "id": "52326d16-a436-4cc6-841b-9d93b0d50fc4",
   "metadata": {},
   "outputs": [
    {
     "name": "stdout",
     "output_type": "stream",
     "text": [
      "62693\n"
     ]
    }
   ],
   "source": [
    "print(len(words))"
   ]
  },
  {
   "cell_type": "code",
   "execution_count": 74,
   "id": "dce472ef-6764-4b7a-b34f-8a49f5d00650",
   "metadata": {},
   "outputs": [],
   "source": [
    "unique_words = sorted(set(words))"
   ]
  },
  {
   "cell_type": "code",
   "execution_count": 75,
   "id": "4a832f2e-8f9f-4834-9d75-4368c2935e09",
   "metadata": {},
   "outputs": [
    {
     "name": "stdout",
     "output_type": "stream",
     "text": [
      "12054\n"
     ]
    }
   ],
   "source": [
    "print(len(unique_words))"
   ]
  },
  {
   "cell_type": "code",
   "execution_count": 76,
   "id": "8cb42deb-817d-43f8-9367-e58aa6094dd8",
   "metadata": {},
   "outputs": [],
   "source": [
    "# requirements for a name:\n",
    "# 1. Must be in the title format so like Brian, Ben, Penelope not brian, ben, penelope\n",
    "# 2. Must start with a letter in the alphabet\n",
    "# 3. Must be longer than 2 characters\n",
    "\n",
    "# Using .istitle() above instead of comparing word.title() == word got rid of only numerical or only character strings\n",
    "# Covered 1., 2. and 3. perfectly using the previous form of is_namelike(string) function\n",
    "\n",
    "# new requirements for a name:\n",
    "# 4. Cannot end in a non-alphanumeric value"
   ]
  },
  {
   "cell_type": "code",
   "execution_count": 77,
   "id": "ba3ee0ca-8645-42db-bbb6-2210093babec",
   "metadata": {},
   "outputs": [],
   "source": [
    "def revised_is_namelike(string):\n",
    "    if len(string) >= 3 and string[0].isalpha() and string.istitle() and string[-1].isalnum():\n",
    "        return True\n",
    "    return False"
   ]
  },
  {
   "cell_type": "code",
   "execution_count": 78,
   "id": "bc394efd-bc0c-498d-bffb-92a1ffd2dd23",
   "metadata": {},
   "outputs": [],
   "source": [
    "pronouns_new = [\"She\", \"You\", \"His\", \"Her\"]\n",
    "titles_new = [\"Miss\", \"Inspector\", \"Officer\"]\n",
    "other_new = [\n",
    "    \"The\", \"And\", \"But\", \"This\", \"What\", \"For\", \"Not\", \"After\", \"When\", \"Because\", \"Now\", \"There\", \"With\", \"Then\",\n",
    "    \"Where\", \"Why\", \"Your\", \"Yet\", \"That\", \"These\", \"Would\", \"How\"]\n",
    "pronouns_titles_and_other = pronouns_new + titles_new + other_new"
   ]
  },
  {
   "cell_type": "code",
   "execution_count": 79,
   "id": "feab35e0-c623-46bc-8e68-c8285832ea3e",
   "metadata": {},
   "outputs": [
    {
     "name": "stdout",
     "output_type": "stream",
     "text": [
      "4266\n"
     ]
    }
   ],
   "source": [
    "namelike_words = [word for word in words if revised_is_namelike(word)]\n",
    "print(len(namelike_words))"
   ]
  },
  {
   "cell_type": "code",
   "execution_count": 80,
   "id": "c6db7b12-ef63-4431-a04e-02cf81b79067",
   "metadata": {},
   "outputs": [
    {
     "name": "stdout",
     "output_type": "stream",
     "text": [
      "652\n"
     ]
    }
   ],
   "source": [
    "unique_namelike_words = sorted(set(namelike_words))\n",
    "print(len(unique_namelike_words))"
   ]
  },
  {
   "cell_type": "code",
   "execution_count": 97,
   "id": "5c30b7f8-c902-440a-8fda-75131461cead",
   "metadata": {},
   "outputs": [],
   "source": [
    "unique_namelike_words_by_count = {words.count(unique_namelike_word):\n",
    "                                     unique_namelike_word for unique_namelike_word in unique_namelike_words}"
   ]
  },
  {
   "cell_type": "code",
   "execution_count": 98,
   "id": "d68f77e2-314a-4bce-9e5f-a8a554832b6c",
   "metadata": {},
   "outputs": [],
   "source": [
    "unique_namelike_word_counts = unique_namelike_words_by_count.keys()\n",
    "descending_unique_namelike_word_counts = sorted(unique_namelike_word_counts)\n",
    "descending_unique_namelike_word_counts.reverse() # had to use a separate line to make it descending"
   ]
  },
  {
   "cell_type": "code",
   "execution_count": 99,
   "id": "33c9b759-6ef8-4f98-8d2d-571661fc5a72",
   "metadata": {},
   "outputs": [],
   "source": [
    "most_popular_unique_namelike_words = [unique_namelike_words_by_count[count]\n",
    "                                      for count in descending_unique_namelike_word_counts[0:500]\n",
    "                                      if unique_namelike_words_by_count[count] not in pronouns_titles_and_other\n",
    "                                     ]"
   ]
  },
  {
   "cell_type": "code",
   "execution_count": 84,
   "id": "0133119b-a85e-42ed-9c6f-e20b48f9ee4e",
   "metadata": {},
   "outputs": [
    {
     "name": "stdout",
     "output_type": "stream",
     "text": [
      "['Rick', 'Rachael', 'Isidore', 'Resch', 'Phil', 'Pris', 'Roy', 'Baty', 'Luba', 'Garland', 'Rosen', 'Bryant', 'Buster', 'Irmgard', 'Iran', 'Luft', 'Voigt-Kampff', 'Sloat', 'San', 'Polokov', 'Deckard', 'John', 'Wilbur', 'Hannibal', 'Pet', 'Police', 'Time', 'Zion', 'Zip']\n"
     ]
    }
   ],
   "source": [
    "print(most_popular_unique_namelike_words)"
   ]
  },
  {
   "cell_type": "code",
   "execution_count": 86,
   "id": "620c0164-3065-4881-a1f1-58f437daad0d",
   "metadata": {},
   "outputs": [],
   "source": [
    "unique_namelike_words = [word for word in unique_namelike_words if word not in most_popular_unique_namelike_words]"
   ]
  },
  {
   "cell_type": "code",
   "execution_count": 90,
   "id": "3bd69376-ebb3-40f9-8df2-60902cf7281c",
   "metadata": {},
   "outputs": [
    {
     "name": "stdout",
     "output_type": "stream",
     "text": [
      "['Nexus-6', 'Friendly', 'Crams', 'Barbour', 'Hall', 'Mercerism', 'Penfield', 'York']\n"
     ]
    }
   ],
   "source": [
    "print(most_popular_unique_namelike_words)"
   ]
  },
  {
   "cell_type": "code",
   "execution_count": 91,
   "id": "fdbebda8-f9db-42b3-81b9-448ce4f5722b",
   "metadata": {},
   "outputs": [],
   "source": [
    "unique_namelike_words = [word for word in unique_namelike_words if word not in most_popular_unique_namelike_words]"
   ]
  },
  {
   "cell_type": "code",
   "execution_count": 95,
   "id": "958674c5-1275-4599-80f3-84dfc6bb9a9b",
   "metadata": {},
   "outputs": [
    {
     "name": "stdout",
     "output_type": "stream",
     "text": [
      "['Francisco', 'Marsten', 'New', 'Yeats']\n"
     ]
    }
   ],
   "source": [
    "print(most_popular_unique_namelike_words)"
   ]
  },
  {
   "cell_type": "code",
   "execution_count": 96,
   "id": "006550ba-fbc2-42a9-a7e1-62aa178f3673",
   "metadata": {},
   "outputs": [],
   "source": [
    "unique_namelike_words = [word for word in unique_namelike_words if word not in most_popular_unique_namelike_words]"
   ]
  },
  {
   "cell_type": "code",
   "execution_count": 100,
   "id": "f73751c8-cb18-47a3-a658-4fb226dd83b0",
   "metadata": {},
   "outputs": [
    {
     "name": "stdout",
     "output_type": "stream",
     "text": [
      "['Boneli', 'Association', 'Even', 'Years']\n"
     ]
    }
   ],
   "source": [
    "print(most_popular_unique_namelike_words)"
   ]
  },
  {
   "cell_type": "code",
   "execution_count": null,
   "id": "38e085c6-661e-4266-90a9-04d8db37eeac",
   "metadata": {},
   "outputs": [],
   "source": []
  }
 ],
 "metadata": {
  "kernelspec": {
   "display_name": "Python [conda env:style_absorber]",
   "language": "python",
   "name": "conda-env-style_absorber-py"
  },
  "language_info": {
   "codemirror_mode": {
    "name": "ipython",
    "version": 3
   },
   "file_extension": ".py",
   "mimetype": "text/x-python",
   "name": "python",
   "nbconvert_exporter": "python",
   "pygments_lexer": "ipython3",
   "version": "3.13.2"
  }
 },
 "nbformat": 4,
 "nbformat_minor": 5
}
