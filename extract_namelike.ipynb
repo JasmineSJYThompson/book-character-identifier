{
 "cells": [
  {
   "cell_type": "code",
   "execution_count": 31,
   "id": "012fae03-924a-4d0d-b867-f66cf4225cb5",
   "metadata": {},
   "outputs": [
    {
     "name": "stdout",
     "output_type": "stream",
     "text": [
      "Number wordlikes 62693\n",
      "Number namelikes 4266\n",
      "Number unique namelikes 652\n",
      "Top ten unique namelike counts [0]\n",
      "[0]\n"
     ]
    }
   ],
   "source": [
    "def is_namelike(string):\n",
    "    \"\"\"\n",
    "    # requirements for a name:\n",
    "    # 1. Must be in the title format so like Brian, Ben, Penelope not brian, ben, penelope\n",
    "    # 2. Must start with a letter in the alphabet\n",
    "    # 3. Must be longer than 2 characters\n",
    "    \n",
    "    # Using .istitle() above instead of comparing word.title() == word got rid of only numerical or only character strings\n",
    "    # Covered 1., 2. and 3. perfectly using the previous form of is_namelike(string) function\n",
    "    \n",
    "    # new requirements for a name:\n",
    "    # 4. Cannot end in a non-alphanumeric value\n",
    "\n",
    "    # Covered 4. also in this version of is_namelike(string) function\n",
    "    \"\"\"\n",
    "    if len(string) >= 3 and string[0].isalpha() and string.istitle() and string[-1].isalnum():\n",
    "        return True\n",
    "    else:\n",
    "        return False\n",
    "\n",
    "def get_max_popularity_namelike_counts(wordlikes, unique_namelikes, max_popularity_ranking):\n",
    "    unique_namelikes_by_count = {wordlikes.count(unique_namelikes): unique_namelike\n",
    "                                 for unique_namelike in unique_namelikes}\n",
    "    \n",
    "    unique_namelike_counts = list(unique_namelikes_by_count.keys())\n",
    "    descending_unique_namelike_counts = sorted(list(unique_namelike_counts))\n",
    "    descending_unique_namelike_counts.reverse()\n",
    "    print(\"Top ten unique namelike counts\", descending_unique_namelike_counts[0:10])\n",
    "\n",
    "    return descending_unique_namelike_counts[0: max_popularity_ranking]\n",
    "        \n",
    "\n",
    "def extract_namelike(text, max_popularity_ranking=500, unacceptable_namelikes=[]):\n",
    "    \"\"\"\n",
    "    # steps:\n",
    "    # 1. extract wordlikes from the text (not called strictly words as extracted in a very general pythonistic way)\n",
    "    # 2. extract any of the wordlikes that fall under the requirements for being namelike\n",
    "    # 3. get an alphabetically ordered set of unique namelikes\n",
    "    # 4. get a dictionary mapping the count of each unique namelike in the original text to the namelike itself\n",
    "    # 5. get a decending sorted list of the counts\n",
    "    # 6. get all of the most common namelikes provided they aren't in the unacceptable list\n",
    "    \"\"\"\n",
    "    wordlikes = str(text).split()\n",
    "    print(\"Number wordlikes\", len(wordlikes))\n",
    "    namelikes = [wordlike for wordlike in wordlikes if is_namelike(wordlike)]\n",
    "    print(\"Number namelikes\", len(namelikes))\n",
    "    unique_namelikes = sorted(set(namelikes))\n",
    "    print(\"Number unique namelikes\", len(unique_namelikes))\n",
    "\n",
    "    unique_namelike_counts = []\n",
    "    unique_namelikes_by_count = {wordlikes.count(unique_namelikes): unique_namelike\n",
    "                                 for unique_namelike in unique_namelikes}\n",
    "    \n",
    "    top_unique_namelikes = get_max_popularity_namelike_counts(wordlikes, unique_namelikes, max_popularity_ranking)\n",
    "\n",
    "    \"\"\"\n",
    "    descending_unique_namelike_counts.reverse() # had to use a separate line to make it descending\n",
    "\n",
    "    print(\"Top ten unique namelike counts (dsc)\", descending_unique_namelike_counts[0:10])\n",
    "\n",
    "    max_available_popularity_ranking = min([len(unique_namelikes), max_popularity_ranking])\n",
    "    print(unique_namelikes_by_count)\n",
    "    print(\"max available popularity ranking\", max_available_popularity_ranking)\n",
    "    top_unique_namelikes = [\n",
    "        unique_namelikes_by_count[count]\n",
    "        for count in descending_unique_namelike_counts[0:max_available_popularity_ranking]\n",
    "        if unique_namelikes_by_count[count] not in unacceptable_namelikes\n",
    "    ]\n",
    "    \"\"\"\n",
    "\n",
    "    return top_unique_namelikes\n",
    "\n",
    "\n",
    "\n",
    "\n",
    "print(extract_namelike(text, 500, []))"
   ]
  },
  {
   "cell_type": "code",
   "execution_count": 25,
   "id": "744c0c8e-fa18-46aa-b446-e90aa08c3ca8",
   "metadata": {},
   "outputs": [],
   "source": [
    "pronouns_new = [\"She\", \"You\", \"His\"]\n",
    "titles_new = [\"Miss\", \"Inspector\", \"Officer\"]\n",
    "other_new = [\n",
    "    \"The\", \"And\", \"But\", \"This\", \"What\", \"For\", \"Not\", \"After\", \"When\", \"Because\", \"Now\", \"There\", \"With\", \"Then\",\n",
    "    \"Where\", \"Why\", \"Your\", \"Yet\"]\n",
    "pronouns_titles_and_other = pronouns_new + titles_new + other_new"
   ]
  },
  {
   "cell_type": "code",
   "execution_count": 26,
   "id": "095c7a59-652e-4dd4-b3c9-4c828f6e22c1",
   "metadata": {},
   "outputs": [],
   "source": [
    "with open(\"data/book-character-identifier/do_androids_dream_of_electric_sheep.txt\",\n",
    "          \"r\", encoding=\"utf-8\") as f:\n",
    "    text = f.read()"
   ]
  },
  {
   "cell_type": "code",
   "execution_count": null,
   "id": "4da6c97d-d54f-4335-931b-c7c061830a16",
   "metadata": {},
   "outputs": [],
   "source": []
  }
 ],
 "metadata": {
  "kernelspec": {
   "display_name": "Python [conda env:style_absorber]",
   "language": "python",
   "name": "conda-env-style_absorber-py"
  },
  "language_info": {
   "codemirror_mode": {
    "name": "ipython",
    "version": 3
   },
   "file_extension": ".py",
   "mimetype": "text/x-python",
   "name": "python",
   "nbconvert_exporter": "python",
   "pygments_lexer": "ipython3",
   "version": "3.13.2"
  }
 },
 "nbformat": 4,
 "nbformat_minor": 5
}
